{
 "cells": [
  {
   "cell_type": "markdown",
   "id": "6224f0ad",
   "metadata": {},
   "source": [
    "#Data Cleaning: credit_risk_dataset.csv\n",
    "This section covers data loading and initial inspection."
   ]
  },
  {
   "cell_type": "markdown",
   "id": "cadf8da2",
   "metadata": {},
   "source": [
    "Data Cleaning Steps:\n",
    "1. Load the data: Import data into the notebook (using pandas)\n",
    "2. Inspect the data: use commands like .head(), .info(), .describe() to understand column types, and spot obvious issues\n",
    "3. Check for missing values: identify which columns have missing (null) entries using .isnull() .sum()\n",
    "4. Handle missing values: decide how to address missing data - fill with mean/median/mode, use interpolation, or drop rows/columns as appropriate \n",
    "    a. if the data is normally distributed, we impute the missing values using the overall mean\n",
    "    b. if the data is skewed to the left or the right, we impute the missing values using the overall median\n",
    "    c. if the data is categorical, then we impute using the mode of that feature itself\n",
    "5. Remove Duplicates: any duplicated rows that could skew analysis\n",
    "6. Check and Correct Data Types: ensure that columns are in correct format (numbers are int/float, categorical/text are object)\n",
    "7. Clean categorical variables: look for capitalizations, typos, inconsistent labels, standardize values as needed\n",
    "8. Export Cleaned Data to CSV"
   ]
  },
  {
   "cell_type": "code",
   "execution_count": null,
   "id": "aaf4059f",
   "metadata": {},
   "outputs": [
    {
     "name": "stdout",
     "output_type": "stream",
     "text": [
      "/Users/paxiong/MilwaukeeFUSE25/data-cleaning\n"
     ]
    }
   ],
   "source": [
    "import os\n",
    "print(os.getcwd())\n"
   ]
  },
  {
   "cell_type": "markdown",
   "id": "39c51b90",
   "metadata": {},
   "source": [
    "STEP 1: Load the data: Import data into the notebook (using pandas)"
   ]
  },
  {
   "cell_type": "code",
   "execution_count": null,
   "id": "d66eb450",
   "metadata": {},
   "outputs": [],
   "source": [
    "#Import data into the notebook\n",
    "import pandas as pd\n",
    "credit_df = pd.read_csv('../data/credit_risk_dataset.csv')\n"
   ]
  },
  {
   "cell_type": "markdown",
   "id": "79df27a5",
   "metadata": {},
   "source": [
    "I imported the csv file into a pandas dataframe in order to bring the raw data into Python so I can inspect, analyze, and process it easily."
   ]
  },
  {
   "cell_type": "markdown",
   "id": "efe0faab",
   "metadata": {},
   "source": [
    "STEP 2: Inspect the data: use commands like .head(), .info(), .describe() to understand column types, and spot obvious issues"
   ]
  },
  {
   "cell_type": "code",
   "execution_count": null,
   "id": "120b5260",
   "metadata": {},
   "outputs": [
    {
     "data": {
      "text/html": [
       "<div>\n",
       "<style scoped>\n",
       "    .dataframe tbody tr th:only-of-type {\n",
       "        vertical-align: middle;\n",
       "    }\n",
       "\n",
       "    .dataframe tbody tr th {\n",
       "        vertical-align: top;\n",
       "    }\n",
       "\n",
       "    .dataframe thead th {\n",
       "        text-align: right;\n",
       "    }\n",
       "</style>\n",
       "<table border=\"1\" class=\"dataframe\">\n",
       "  <thead>\n",
       "    <tr style=\"text-align: right;\">\n",
       "      <th></th>\n",
       "      <th>person_age</th>\n",
       "      <th>person_income</th>\n",
       "      <th>person_home_ownership</th>\n",
       "      <th>person_emp_length</th>\n",
       "      <th>loan_intent</th>\n",
       "      <th>loan_grade</th>\n",
       "      <th>loan_amnt</th>\n",
       "      <th>loan_int_rate</th>\n",
       "      <th>loan_status</th>\n",
       "      <th>loan_percent_income</th>\n",
       "      <th>cb_person_default_on_file</th>\n",
       "      <th>cb_person_cred_hist_length</th>\n",
       "    </tr>\n",
       "  </thead>\n",
       "  <tbody>\n",
       "    <tr>\n",
       "      <th>0</th>\n",
       "      <td>22</td>\n",
       "      <td>59000</td>\n",
       "      <td>RENT</td>\n",
       "      <td>123.0</td>\n",
       "      <td>PERSONAL</td>\n",
       "      <td>D</td>\n",
       "      <td>35000</td>\n",
       "      <td>16.02</td>\n",
       "      <td>1</td>\n",
       "      <td>0.59</td>\n",
       "      <td>Y</td>\n",
       "      <td>3</td>\n",
       "    </tr>\n",
       "    <tr>\n",
       "      <th>1</th>\n",
       "      <td>21</td>\n",
       "      <td>9600</td>\n",
       "      <td>OWN</td>\n",
       "      <td>5.0</td>\n",
       "      <td>EDUCATION</td>\n",
       "      <td>B</td>\n",
       "      <td>1000</td>\n",
       "      <td>11.14</td>\n",
       "      <td>0</td>\n",
       "      <td>0.10</td>\n",
       "      <td>N</td>\n",
       "      <td>2</td>\n",
       "    </tr>\n",
       "    <tr>\n",
       "      <th>2</th>\n",
       "      <td>25</td>\n",
       "      <td>9600</td>\n",
       "      <td>MORTGAGE</td>\n",
       "      <td>1.0</td>\n",
       "      <td>MEDICAL</td>\n",
       "      <td>C</td>\n",
       "      <td>5500</td>\n",
       "      <td>12.87</td>\n",
       "      <td>1</td>\n",
       "      <td>0.57</td>\n",
       "      <td>N</td>\n",
       "      <td>3</td>\n",
       "    </tr>\n",
       "    <tr>\n",
       "      <th>3</th>\n",
       "      <td>23</td>\n",
       "      <td>65500</td>\n",
       "      <td>RENT</td>\n",
       "      <td>4.0</td>\n",
       "      <td>MEDICAL</td>\n",
       "      <td>C</td>\n",
       "      <td>35000</td>\n",
       "      <td>15.23</td>\n",
       "      <td>1</td>\n",
       "      <td>0.53</td>\n",
       "      <td>N</td>\n",
       "      <td>2</td>\n",
       "    </tr>\n",
       "    <tr>\n",
       "      <th>4</th>\n",
       "      <td>24</td>\n",
       "      <td>54400</td>\n",
       "      <td>RENT</td>\n",
       "      <td>8.0</td>\n",
       "      <td>MEDICAL</td>\n",
       "      <td>C</td>\n",
       "      <td>35000</td>\n",
       "      <td>14.27</td>\n",
       "      <td>1</td>\n",
       "      <td>0.55</td>\n",
       "      <td>Y</td>\n",
       "      <td>4</td>\n",
       "    </tr>\n",
       "  </tbody>\n",
       "</table>\n",
       "</div>"
      ],
      "text/plain": [
       "   person_age  person_income person_home_ownership  person_emp_length  \\\n",
       "0          22          59000                  RENT              123.0   \n",
       "1          21           9600                   OWN                5.0   \n",
       "2          25           9600              MORTGAGE                1.0   \n",
       "3          23          65500                  RENT                4.0   \n",
       "4          24          54400                  RENT                8.0   \n",
       "\n",
       "  loan_intent loan_grade  loan_amnt  loan_int_rate  loan_status  \\\n",
       "0    PERSONAL          D      35000          16.02            1   \n",
       "1   EDUCATION          B       1000          11.14            0   \n",
       "2     MEDICAL          C       5500          12.87            1   \n",
       "3     MEDICAL          C      35000          15.23            1   \n",
       "4     MEDICAL          C      35000          14.27            1   \n",
       "\n",
       "   loan_percent_income cb_person_default_on_file  cb_person_cred_hist_length  \n",
       "0                 0.59                         Y                           3  \n",
       "1                 0.10                         N                           2  \n",
       "2                 0.57                         N                           3  \n",
       "3                 0.53                         N                           2  \n",
       "4                 0.55                         Y                           4  "
      ]
     },
     "execution_count": 8,
     "metadata": {},
     "output_type": "execute_result"
    }
   ],
   "source": [
    "#Inspects the first few rows of the DataFrame#\n",
    "credit_df.head()"
   ]
  },
  {
   "cell_type": "markdown",
   "id": "802d3943",
   "metadata": {},
   "source": [
    "I used .head() to view the first few rows.  This quick snapshot helps me spot any obvious issues (strange headers, missing data, weird formatting)."
   ]
  },
  {
   "cell_type": "markdown",
   "id": "7f69a3e1",
   "metadata": {},
   "source": [
    "STEP 3: Check for missing values: identify which columns have missing (null) entries using .isnull() .sum() "
   ]
  },
  {
   "cell_type": "code",
   "execution_count": 9,
   "id": "e95ea66a",
   "metadata": {},
   "outputs": [
    {
     "name": "stdout",
     "output_type": "stream",
     "text": [
      "<class 'pandas.core.frame.DataFrame'>\n",
      "RangeIndex: 32581 entries, 0 to 32580\n",
      "Data columns (total 12 columns):\n",
      " #   Column                      Non-Null Count  Dtype  \n",
      "---  ------                      --------------  -----  \n",
      " 0   person_age                  32581 non-null  int64  \n",
      " 1   person_income               32581 non-null  int64  \n",
      " 2   person_home_ownership       32581 non-null  object \n",
      " 3   person_emp_length           31686 non-null  float64\n",
      " 4   loan_intent                 32581 non-null  object \n",
      " 5   loan_grade                  32581 non-null  object \n",
      " 6   loan_amnt                   32581 non-null  int64  \n",
      " 7   loan_int_rate               29465 non-null  float64\n",
      " 8   loan_status                 32581 non-null  int64  \n",
      " 9   loan_percent_income         32581 non-null  float64\n",
      " 10  cb_person_default_on_file   32581 non-null  object \n",
      " 11  cb_person_cred_hist_length  32581 non-null  int64  \n",
      "dtypes: float64(3), int64(5), object(4)\n",
      "memory usage: 3.0+ MB\n"
     ]
    }
   ],
   "source": [
    "# Check For Missing Values and Data Types \n",
    "# How many rows, and columns you have, data types for each column, how many non-null values are in each column#\n",
    "credit_df.info()"
   ]
  },
  {
   "cell_type": "markdown",
   "id": "ce70a7ce",
   "metadata": {},
   "source": [
    "Only Columns That Need to be Cleaned:\n",
    "person_emp_length: float - 895 missing values\n",
    "loan_int_rate: float - 3,116 missing values\n",
    "\n",
    "int64: integer numbers (whole #, like 5, 20, 100)\n",
    "float64: decimal numbers (fractional like 4.5, 99.99)\n",
    "object: text/string data (like 'RENT', 'B', 'N') or mixed data types"
   ]
  },
  {
   "cell_type": "code",
   "execution_count": null,
   "id": "e5f2b2aa",
   "metadata": {},
   "outputs": [
    {
     "data": {
      "text/plain": [
       "count    31686.000000\n",
       "mean         4.789686\n",
       "std          4.142630\n",
       "min          0.000000\n",
       "25%          2.000000\n",
       "50%          4.000000\n",
       "75%          7.000000\n",
       "max        123.000000\n",
       "Name: person_emp_length, dtype: float64"
      ]
     },
     "execution_count": 10,
     "metadata": {},
     "output_type": "execute_result"
    }
   ],
   "source": [
    "# Check the stats for 'person_emp_length' column\n",
    "credit_df['person_emp_length'].describe()"
   ]
  },
  {
   "cell_type": "markdown",
   "id": "666b82aa",
   "metadata": {},
   "source": [
    "Choose median for missing values because it is less affected by the outliers (max: 123)"
   ]
  },
  {
   "cell_type": "markdown",
   "id": "1f81454e",
   "metadata": {},
   "source": [
    "I ran .info() and .describe() to check the column's data types and stats.  This helsp me understand the type of data each column represents (number, text, category), the size of the dataset, where things might be missing or inconsistent."
   ]
  },
  {
   "cell_type": "markdown",
   "id": "4ca58c66",
   "metadata": {},
   "source": [
    "STEP 4: Handle missing values: check stats, decide how to address missing data - fill with mean/median/mode, use interpolation, or drop rows/columns as appropriate"
   ]
  },
  {
   "cell_type": "markdown",
   "id": "6bf0f297",
   "metadata": {},
   "source": [
    "Next: Fill Missing Values in person_emp_length.\n",
    "\n",
    "fillna() tells pandas to “fill in the blanks” (NAs).\n",
    "credit_df['person_emp_length'].median() finds the middle value in your data.\n",
    "inplace=True updates your DataFrame directly."
   ]
  },
  {
   "cell_type": "code",
   "execution_count": 11,
   "id": "b3489e68",
   "metadata": {},
   "outputs": [
    {
     "name": "stderr",
     "output_type": "stream",
     "text": [
      "/var/folders/m8/v8x4rymd34b8cryfyvt6mrcw0000gn/T/ipykernel_57940/318750665.py:1: FutureWarning: A value is trying to be set on a copy of a DataFrame or Series through chained assignment using an inplace method.\n",
      "The behavior will change in pandas 3.0. This inplace method will never work because the intermediate object on which we are setting values always behaves as a copy.\n",
      "\n",
      "For example, when doing 'df[col].method(value, inplace=True)', try using 'df.method({col: value}, inplace=True)' or df[col] = df[col].method(value) instead, to perform the operation inplace on the original object.\n",
      "\n",
      "\n",
      "  credit_df['person_emp_length'].fillna(credit_df['person_emp_length'].median(), inplace=True)\n"
     ]
    }
   ],
   "source": [
    "credit_df['person_emp_length'].fillna(credit_df['person_emp_length'].median(), inplace=True)"
   ]
  },
  {
   "cell_type": "code",
   "execution_count": 13,
   "id": "87316c98",
   "metadata": {},
   "outputs": [],
   "source": [
    "credit_df['person_emp_length'] = credit_df['person_emp_length'].fillna(credit_df['person_emp_length'].median())\n"
   ]
  },
  {
   "cell_type": "markdown",
   "id": "d979acab",
   "metadata": {},
   "source": [
    "^ This syntax is \"safer\" by \"assigning\" the column (while still finding the median and filling the blanks) "
   ]
  },
  {
   "cell_type": "markdown",
   "id": "273eec5e",
   "metadata": {},
   "source": [
    "I filled the missing values in 'person_emp_length' column with the median because the data had outliers (max: 123 years of employment), so the median is less affected by extreme numbers and gives a more reliable \"typical\" value."
   ]
  },
  {
   "cell_type": "markdown",
   "id": "fc8edeca",
   "metadata": {},
   "source": [
    "Repeat STEP 4 for 'loan_int_rate' Column"
   ]
  },
  {
   "cell_type": "code",
   "execution_count": null,
   "id": "4d4e03b0",
   "metadata": {},
   "outputs": [
    {
     "data": {
      "text/plain": [
       "count    29465.000000\n",
       "mean        11.011695\n",
       "std          3.240459\n",
       "min          5.420000\n",
       "25%          7.900000\n",
       "50%         10.990000\n",
       "75%         13.470000\n",
       "max         23.220000\n",
       "Name: loan_int_rate, dtype: float64"
      ]
     },
     "execution_count": 14,
     "metadata": {},
     "output_type": "execute_result"
    }
   ],
   "source": [
    "#look at the statistics of the 'loan_int_rate' column\n",
    "credit_df['loan_int_rate'].describe()"
   ]
  },
  {
   "cell_type": "code",
   "execution_count": 16,
   "id": "3b246bf5",
   "metadata": {},
   "outputs": [
    {
     "data": {
      "text/plain": [
       "np.int64(3116)"
      ]
     },
     "execution_count": 16,
     "metadata": {},
     "output_type": "execute_result"
    }
   ],
   "source": [
    "# Count Missing Values in 'loan_int_rate'\n",
    "credit_df['loan_int_rate'].isnull().sum()"
   ]
  },
  {
   "cell_type": "code",
   "execution_count": null,
   "id": "843857c2",
   "metadata": {},
   "outputs": [
    {
     "data": {
      "text/plain": [
       "person_age                       0\n",
       "person_income                    0\n",
       "person_home_ownership            0\n",
       "person_emp_length                0\n",
       "loan_intent                      0\n",
       "loan_grade                       0\n",
       "loan_amnt                        0\n",
       "loan_int_rate                 3116\n",
       "loan_status                      0\n",
       "loan_percent_income              0\n",
       "cb_person_default_on_file        0\n",
       "cb_person_cred_hist_length       0\n",
       "dtype: int64"
      ]
     },
     "execution_count": 17,
     "metadata": {},
     "output_type": "execute_result"
    }
   ],
   "source": [
    "# All the missing values at once:\n",
    "credit_df.isnull().sum()"
   ]
  },
  {
   "cell_type": "code",
   "execution_count": 18,
   "id": "99739141",
   "metadata": {},
   "outputs": [
    {
     "data": {
      "text/plain": [
       "count    29465.000000\n",
       "mean        11.011695\n",
       "std          3.240459\n",
       "min          5.420000\n",
       "25%          7.900000\n",
       "50%         10.990000\n",
       "75%         13.470000\n",
       "max         23.220000\n",
       "Name: loan_int_rate, dtype: float64"
      ]
     },
     "execution_count": 18,
     "metadata": {},
     "output_type": "execute_result"
    }
   ],
   "source": [
    "credit_df['loan_int_rate'].describe()"
   ]
  },
  {
   "cell_type": "markdown",
   "id": "1b7f4b35",
   "metadata": {},
   "source": [
    "Data is normally distributed (max: 23.22 is not extreme/not highly skewed/does not have strong outliers).\n",
    "Use the mean if the distribution is roughly symmetric/normal and does not have strong outlier.\n",
    "Use the median if the distribution is heavily skewed or has strong outlier."
   ]
  },
  {
   "cell_type": "code",
   "execution_count": 19,
   "id": "649f3154",
   "metadata": {},
   "outputs": [],
   "source": [
    "#Fill Missing Values in 'loan_int_rate' with Mean\n",
    "credit_df['loan_int_rate'] = credit_df['loan_int_rate'].fillna(credit_df['loan_int_rate'].mean())\n"
   ]
  },
  {
   "cell_type": "code",
   "execution_count": 20,
   "id": "69f34b73",
   "metadata": {},
   "outputs": [
    {
     "data": {
      "text/plain": [
       "person_age                    0\n",
       "person_income                 0\n",
       "person_home_ownership         0\n",
       "person_emp_length             0\n",
       "loan_intent                   0\n",
       "loan_grade                    0\n",
       "loan_amnt                     0\n",
       "loan_int_rate                 0\n",
       "loan_status                   0\n",
       "loan_percent_income           0\n",
       "cb_person_default_on_file     0\n",
       "cb_person_cred_hist_length    0\n",
       "dtype: int64"
      ]
     },
     "execution_count": 20,
     "metadata": {},
     "output_type": "execute_result"
    }
   ],
   "source": [
    "credit_df.isnull().sum()"
   ]
  },
  {
   "cell_type": "markdown",
   "id": "7958689b",
   "metadata": {},
   "source": [
    "I filled the missing values with the column mean.  This column was not strongly skewed, and mean and median were similiar.  Using the mean keeps the overall average interest rate correct for later analysis."
   ]
  },
  {
   "cell_type": "markdown",
   "id": "d850fc69",
   "metadata": {},
   "source": [
    "STEP 5: Check for duplicates and remove them to prevent \"double-counting\" people or loans"
   ]
  },
  {
   "cell_type": "code",
   "execution_count": 21,
   "id": "ec33d048",
   "metadata": {},
   "outputs": [
    {
     "data": {
      "text/plain": [
       "np.int64(165)"
      ]
     },
     "execution_count": 21,
     "metadata": {},
     "output_type": "execute_result"
    }
   ],
   "source": [
    "credit_df.duplicated().sum()"
   ]
  },
  {
   "cell_type": "code",
   "execution_count": 22,
   "id": "473e3a66",
   "metadata": {},
   "outputs": [],
   "source": [
    "# Remove Duplicates\n",
    "credit_df.drop_duplicates(inplace=True)"
   ]
  },
  {
   "cell_type": "code",
   "execution_count": 23,
   "id": "8f84ffdf",
   "metadata": {},
   "outputs": [
    {
     "data": {
      "text/plain": [
       "np.int64(0)"
      ]
     },
     "execution_count": 23,
     "metadata": {},
     "output_type": "execute_result"
    }
   ],
   "source": [
    "# Double-check that duplicates are removed\n",
    "credit_df.duplicated().sum()"
   ]
  },
  {
   "cell_type": "markdown",
   "id": "7ac65d24",
   "metadata": {},
   "source": [
    "I used .duplicated().sum() to count rows, then dropped them.  Duplicated rows can cause double counting, which ruins BI reports and metrics.  Removing them ensures each entry is unique and results are accurate."
   ]
  },
  {
   "cell_type": "markdown",
   "id": "77a6cdb4",
   "metadata": {},
   "source": [
    "STEP 6: Check and Correct Data Types: ensure that columns are in correct format (numbers are int/float, categorical/text are object)"
   ]
  },
  {
   "cell_type": "code",
   "execution_count": 24,
   "id": "d5683bd3",
   "metadata": {},
   "outputs": [
    {
     "data": {
      "text/plain": [
       "person_age                      int64\n",
       "person_income                   int64\n",
       "person_home_ownership          object\n",
       "person_emp_length             float64\n",
       "loan_intent                    object\n",
       "loan_grade                     object\n",
       "loan_amnt                       int64\n",
       "loan_int_rate                 float64\n",
       "loan_status                     int64\n",
       "loan_percent_income           float64\n",
       "cb_person_default_on_file      object\n",
       "cb_person_cred_hist_length      int64\n",
       "dtype: object"
      ]
     },
     "execution_count": 24,
     "metadata": {},
     "output_type": "execute_result"
    }
   ],
   "source": [
    "# Check Data Types\n",
    "credit_df.dtypes"
   ]
  },
  {
   "cell_type": "code",
   "execution_count": 25,
   "id": "3377453e",
   "metadata": {},
   "outputs": [],
   "source": [
    "categorical_cols = [\n",
    "    'person_home_ownership',\n",
    "    'loan_intent',\n",
    "    'loan_grade',\n",
    "    'cb_person_default_on_file',\n",
    "]\n",
    "for col in categorical_cols:\n",
    "    credit_df[col] = credit_df[col].astype('category') "
   ]
  },
  {
   "cell_type": "markdown",
   "id": "a675f5ad",
   "metadata": {},
   "source": [
    "I ran .dtypes to review each column's types and converted text-based columns with a small set of repeated labels (like home ownership or loan grade) to category type.  From \"object\" (text) to \"category\" to make analysis more efficient, faster, and to help tools like PowerBI/Tableau recognize these as discrete groupings for visualizations/business summaries."
   ]
  },
  {
   "cell_type": "markdown",
   "id": "3a825611",
   "metadata": {},
   "source": [
    "STEP 7: Check for Odd Values (ex. typos)"
   ]
  },
  {
   "cell_type": "code",
   "execution_count": 26,
   "id": "83fe0d9c",
   "metadata": {},
   "outputs": [
    {
     "name": "stdout",
     "output_type": "stream",
     "text": [
      "person_home_ownership ['RENT', 'OWN', 'MORTGAGE', 'OTHER']\n",
      "Categories (4, object): ['MORTGAGE', 'OTHER', 'OWN', 'RENT']\n",
      "loan_intent ['PERSONAL', 'EDUCATION', 'MEDICAL', 'VENTURE', 'HOMEIMPROVEMENT', 'DEBTCONSOLIDATION']\n",
      "Categories (6, object): ['DEBTCONSOLIDATION', 'EDUCATION', 'HOMEIMPROVEMENT', 'MEDICAL', 'PERSONAL', 'VENTURE']\n",
      "loan_grade ['D', 'B', 'C', 'A', 'E', 'F', 'G']\n",
      "Categories (7, object): ['A', 'B', 'C', 'D', 'E', 'F', 'G']\n",
      "cb_person_default_on_file ['Y', 'N']\n",
      "Categories (2, object): ['N', 'Y']\n"
     ]
    }
   ],
   "source": [
    "for col in categorical_cols:\n",
    "    print(col, credit_df[col].unique())"
   ]
  },
  {
   "cell_type": "markdown",
   "id": "9f68bcb3",
   "metadata": {},
   "source": [
    "I reviewed each categorical column using '.unique()' to amek sure there were no typos/formatting mistakes/unexpected values.  All categories are properly labeled and formatted consistently."
   ]
  },
  {
   "cell_type": "markdown",
   "id": "6a7de210",
   "metadata": {},
   "source": [
    "STEP 8: Export Cleaned Data"
   ]
  },
  {
   "cell_type": "code",
   "execution_count": 27,
   "id": "cb0a14e2",
   "metadata": {},
   "outputs": [],
   "source": [
    "credit_df.to_csv('cleaned_credit_risk_dataset.csv', index=False)"
   ]
  },
  {
   "cell_type": "markdown",
   "id": "a8f5849f",
   "metadata": {},
   "source": [
    "I exported the cleaned credit risk dataset as 'cleaned_credit_risk_dataset.csv' so it can be loaded into Tableau for \n",
    "business intelligence visualizations and dashboard creation. This ensures my analysis is based on clean, trustworthy data."
   ]
  }
 ],
 "metadata": {
  "kernelspec": {
   "display_name": "Python 3",
   "language": "python",
   "name": "python3"
  },
  "language_info": {
   "codemirror_mode": {
    "name": "ipython",
    "version": 3
   },
   "file_extension": ".py",
   "mimetype": "text/x-python",
   "name": "python",
   "nbconvert_exporter": "python",
   "pygments_lexer": "ipython3",
   "version": "3.9.6"
  }
 },
 "nbformat": 4,
 "nbformat_minor": 5
}
