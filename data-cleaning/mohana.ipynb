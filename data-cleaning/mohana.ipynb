{
 "cells": [
  {
   "cell_type": "markdown",
   "metadata": {},
   "source": [
    "# 🧼 Data Cleaning for Student Spending Dataset\n",
    "\n",
    "This Jupyter Notebook covers the data cleaning process for the student spending dataset. We inspect features with missing values, impute where necessary, and prepare the data for analysis or modeling."
   ]
  },
  {
   "cell_type": "code",
   "execution_count": null,
   "metadata": {},
   "outputs": [],
   "source": [
    "# 📦 The Necessary Imports\n",
    "import pandas as pd\n",
    "import numpy as np\n",
    "from IPython.display import display"
   ]
  },
  {
   "cell_type": "code",
   "execution_count": null,
   "metadata": {},
   "outputs": [],
   "source": [
    "# 📂 Loading the Dataset\n",
    "student_df = pd.read_csv(\"../data/student_spending.csv\")\n",
    "display(student_df)"
   ]
  },
  {
   "cell_type": "code",
   "execution_count": null,
   "metadata": {},
   "outputs": [],
   "source": [
    "# 🔍 A Deeper Dive into the Dataset\n",
    "display(student_df.info())\n",
    "display(student_df.describe(include='all'))"
   ]
  },
  {
   "cell_type": "markdown",
   "metadata": {},
   "source": [
    "### 📌 Observations and Conclusion\n",
    "\n",
    "The dataset is mostly complete. We'll proceed by inspecting and resolving missing values, converting categorical features, and applying imputation strategies."
   ]
  },
  {
   "cell_type": "code",
   "execution_count": null,
   "metadata": {},
   "outputs": [],
   "source": [
    "# 🚑 Missing Value Imputations\n",
    "\n",
    "null_numeric_features = []\n",
    "null_categorical_features = []\n",
    "\n",
    "numeric_features = student_df.select_dtypes(include='number')\n",
    "categorical_features = student_df.select_dtypes(include='object')"
   ]
  },
  {
   "cell_type": "code",
   "execution_count": null,
   "metadata": {},
   "outputs": [],
   "source": [
    "# Imputing missing numeric values based on skew\n",
    "for column in numeric_features:\n",
    "    if student_df[column].isnull().any():\n",
    "        null_numeric_features.append(column)\n",
    "        skewness = student_df[column].skew()\n",
    "        \n",
    "        if skewness > 0:\n",
    "            print(f\"The feature {column} is right skewed\")\n",
    "        elif skewness < 0:\n",
    "            print(f\"The feature {column} is left skewed\")\n",
    "        else:\n",
    "            print(f\"The feature {column} is symmetric\")\n",
    "\n",
    "        student_df[column] = student_df[column].fillna(student_df[column].median())"
   ]
  },
  {
   "cell_type": "code",
   "execution_count": null,
   "metadata": {},
   "outputs": [],
   "source": [
    "# Imputing missing categorical features\n",
    "for column in categorical_features:\n",
    "    if student_df[column].isnull().any():\n",
    "        print(f\"The feature {column} has null values!\")\n",
    "        null_categorical_features.append(column)\n",
    "        student_df[column] = student_df[column].fillna(student_df[column].mode()[0])"
   ]
  },
  {
   "cell_type": "code",
   "execution_count": null,
   "metadata": {},
   "outputs": [],
   "source": [
    "# Final null check\n",
    "print(student_df.isnull().values.any())"
   ]
  },
  {
   "cell_type": "markdown",
   "metadata": {},
   "source": [
    "### 🔁 Converting Categorical Features to Numerical"
   ]
  },
  {
   "cell_type": "code",
   "execution_count": null,
   "metadata": {},
   "outputs": [],
   "source": [
    "# Binary categorical features mapping\n",
    "for column in categorical_features:\n",
    "    if student_df[column].nunique() == 2:\n",
    "        print(f\"The feature {column} has two unique values!\")\n",
    "        values = student_df[column].unique()\n",
    "        mapping = {values[0]: 0, values[1]: 1}\n",
    "        student_df[column] = student_df[column].map(mapping).astype(int)"
   ]
  },
  {
   "cell_type": "code",
   "execution_count": null,
   "metadata": {},
   "outputs": [],
   "source": [
    "# Multi-class categorical features one-hot encoding\n",
    "for column in categorical_features:\n",
    "    if student_df[column].nunique() > 2:\n",
    "        print(f\"The feature {column} has more than two unique values!\")\n",
    "        encoded = pd.get_dummies(student_df[column], prefix=column, dtype=int)\n",
    "        student_df.drop(columns=[column], inplace=True)\n",
    "        student_df = pd.concat([student_df, encoded], axis=1)"
   ]
  },
  {
   "cell_type": "code",
   "execution_count": null,
   "metadata": {},
   "outputs": [],
   "source": [
    "# Final preview\n",
    "display(student_df.head())"
   ]
  }
 ],
 "metadata": {
  "kernelspec": {
   "display_name": "Python 3",
   "language": "python",
   "name": "python3"
  },
  "language_info": {
   "name": "python",
   "version": ""
  }
 },
 "nbformat": 4,
 "nbformat_minor": 5
}
