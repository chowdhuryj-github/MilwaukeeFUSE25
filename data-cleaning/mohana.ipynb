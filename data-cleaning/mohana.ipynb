import pandas as pd
from sklearn.preprocessing import LabelEncoder

# Load your dataset
df = pd.read_csv("student_spending.csv")  # Adjust path if needed

# Drop index column if present
if 'Unnamed: 0' in df.columns:
    df.drop(columns=['Unnamed: 0'], inplace=True)

# Categorical columns to encode
categorical_cols = ['gender', 'year_in_school', 'major', 'preferred_payment_method']

# Apply label encoding
label_encoders = {}
for col in categorical_cols:
    le = LabelEncoder()
    df[col] = le.fit_transform(df[col])
    label_encoders[col] = le  # Save encoders if needed later
