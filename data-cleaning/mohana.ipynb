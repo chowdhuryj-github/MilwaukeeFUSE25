# Step-by-step data cleaning for student_spending.csv

import pandas as pd
from sklearn.preprocessing import LabelEncoder
import matplotlib.pyplot as plt
import seaborn as sns
import numpy as np

# Load the dataset
df = pd.read_csv("student_spending.csv")

# Drop unnecessary index column
if 'Unnamed: 0' in df.columns:
    df.drop(columns=['Unnamed: 0'], inplace=True)

# Check for missing values
print("Missing Values:\n", df.isnull().sum())

# Visualize skewness of numerical features
numerical_cols = df.select_dtypes(include=np.number).columns
skewness = df[numerical_cols].skew().sort_values(ascending=False)

plt.figure(figsize=(12, 6))
sns.barplot(x=skewness.index, y=skewness.values)
plt.xticks(rotation=45)
plt.title("Skewness of Numerical Features")
plt.tight_layout()
plt.show()

# Label encode categorical columns (since all have ≤5 unique values)
categorical_cols = ['gender', 'year_in_school', 'major', 'preferred_payment_method']
label_encoders = {}

for col in categorical_cols:
    le = LabelEncoder()
    df[col] = le.fit_transform(df[col])
    label_encoders[col] = le

# Show cleaned data
df.head()
